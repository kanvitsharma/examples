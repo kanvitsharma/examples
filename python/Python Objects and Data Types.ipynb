{
 "cells": [
  {
   "cell_type": "markdown",
   "metadata": {},
   "source": [
    "# Python Objects and Data Types"
   ]
  },
  {
   "cell_type": "markdown",
   "metadata": {},
   "source": [
    "## Data types\n",
    "\n",
    "     Name           | Type  |               Description              |\n",
    "     integers       | int   | whole numbers                          |\n",
    "     floating-point | float | numbers with decimal places            |\n",
    "     string         | str   | ordered sequence of characters         |\n",
    "     list           | list  | ordered sequence of objects            |\n",
    "     dictionaries   | dict  | unordered key-value pairs              |\n",
    "     tuples         | tup   | ordered immutable sequence of objects  |\n",
    "     sets           | set   | unordered collection of unique objects |\n",
    "     booleans       | bool  | logical values                         |\n",
    "     \n",
    "There are two main types of numbers:\n",
    "1. integers\n",
    "2. floating-points\n",
    "\n",
    "Python uses dynamic typing: we can reassign variables to different data types."
   ]
  },
  {
   "cell_type": "markdown",
   "metadata": {},
   "source": [
    "`type()` is used to find the type of a variable."
   ]
  },
  {
   "cell_type": "code",
   "execution_count": 52,
   "metadata": {},
   "outputs": [
    {
     "name": "stdout",
     "output_type": "stream",
     "text": [
      "3.142857142857143\n"
     ]
    },
    {
     "data": {
      "text/plain": [
       "float"
      ]
     },
     "execution_count": 52,
     "metadata": {},
     "output_type": "execute_result"
    }
   ],
   "source": [
    "pi = 22 / 7\n",
    "print(pi)\n",
    "type(pi)"
   ]
  },
  {
   "cell_type": "markdown",
   "metadata": {},
   "source": [
    "Strings are sequences of characters.\n",
    "- they are ordered sequences allowing us to use indexing and slicing to grab subsections of the string.\n",
    "Syntax:\n",
    "`string_var[start:stop:step]`\n",
    "\n",
    "start => starting index\n",
    "\n",
    "stop => ending index, up to which to slice, not including the stop value\n",
    "- they are immutable"
   ]
  },
  {
   "cell_type": "code",
   "execution_count": 53,
   "metadata": {},
   "outputs": [
    {
     "name": "stdout",
     "output_type": "stream",
     "text": [
      "i'm feeling with you, i'm not having fun tonight\n"
     ]
    },
    {
     "data": {
      "text/plain": [
       "'fun tonight'"
      ]
     },
     "execution_count": 53,
     "metadata": {},
     "output_type": "execute_result"
    }
   ],
   "source": [
    "lyr = \"i'm feeling with you, i'm not having fun tonight\"\n",
    "print(lyr)\n",
    "\n",
    "lyr[37:] # string slicing"
   ]
  },
  {
   "cell_type": "markdown",
   "metadata": {},
   "source": [
    "# Floyd's Triangle"
   ]
  },
  {
   "cell_type": "code",
   "execution_count": 22,
   "metadata": {},
   "outputs": [
    {
     "name": "stdout",
     "output_type": "stream",
     "text": [
      "\n",
      "1 \n",
      "2 3 \n",
      "4 5 6 \n",
      "7 8 9 10 \n",
      "11 12 13 14 15 \n"
     ]
    }
   ],
   "source": [
    "b = 6\n",
    "k = 1\n",
    "for i in range(0, b):\n",
    "    for j in range(0, i):\n",
    "        print(k, end=' ')\n",
    "        k = k + 1\n",
    "    print()"
   ]
  },
  {
   "cell_type": "markdown",
   "metadata": {},
   "source": [
    "# .format()"
   ]
  },
  {
   "cell_type": "code",
   "execution_count": 23,
   "metadata": {},
   "outputs": [
    {
     "name": "stdout",
     "output_type": "stream",
     "text": [
      "My name is Kanvit and I want to be a data scientist\n"
     ]
    }
   ],
   "source": [
    "print(\"My name is {} and I want to be a {} scientist\".format('Kanvit', 'data'))"
   ]
  },
  {
   "cell_type": "code",
   "execution_count": 24,
   "metadata": {},
   "outputs": [
    {
     "name": "stdout",
     "output_type": "stream",
     "text": [
      "I don't speak German but I can if you like\n"
     ]
    }
   ],
   "source": [
    "print(\"I don't speak {0} but I can if you {1}\".format('German', 'like'))"
   ]
  },
  {
   "cell_type": "code",
   "execution_count": 25,
   "metadata": {},
   "outputs": [
    {
     "name": "stdout",
     "output_type": "stream",
     "text": [
      "I don't speak German but I can if you like\n"
     ]
    }
   ],
   "source": [
    "print(\"I don't speak {g} but I can if you {l}\".format(g='German', l='like'))"
   ]
  },
  {
   "cell_type": "code",
   "execution_count": 31,
   "metadata": {},
   "outputs": [
    {
     "name": "stdout",
     "output_type": "stream",
     "text": [
      "The value of pi is 3.143\n"
     ]
    }
   ],
   "source": [
    "pi = 22 / 7\n",
    "print(\"The value of pi is {pi:.3f}\".format(pi=pi))"
   ]
  },
  {
   "cell_type": "markdown",
   "metadata": {},
   "source": [
    "# lists\n",
    "\n",
    "lists are ordered sequences that can hold a variety of object types. they use [] and commas to separate objects in the list.\n",
    "- lists support indexing and slicing\n",
    "- lists can be nested"
   ]
  },
  {
   "cell_type": "code",
   "execution_count": 33,
   "metadata": {},
   "outputs": [],
   "source": [
    "list1 = ['some', 'var']"
   ]
  },
  {
   "cell_type": "code",
   "execution_count": 34,
   "metadata": {},
   "outputs": [],
   "source": [
    "list2 = ['more', 'var']"
   ]
  },
  {
   "cell_type": "code",
   "execution_count": 35,
   "metadata": {},
   "outputs": [
    {
     "name": "stdout",
     "output_type": "stream",
     "text": [
      "['some', 'var', 'more', 'var']\n"
     ]
    }
   ],
   "source": [
    "print(list1 + list2)\n",
    "#this is temporary, to store this concatenated list, assign it to a new variablle"
   ]
  },
  {
   "cell_type": "code",
   "execution_count": 36,
   "metadata": {},
   "outputs": [
    {
     "data": {
      "text/plain": [
       "['some', 'var', 'more', 'var']"
      ]
     },
     "execution_count": 36,
     "metadata": {},
     "output_type": "execute_result"
    }
   ],
   "source": [
    "list3 = list1 + list2\n",
    "list3"
   ]
  },
  {
   "cell_type": "markdown",
   "metadata": {},
   "source": [
    "# f-strings"
   ]
  },
  {
   "cell_type": "code",
   "execution_count": 37,
   "metadata": {},
   "outputs": [
    {
     "name": "stdout",
     "output_type": "stream",
     "text": [
      "List 1: ['some', 'var']\n",
      "List 2: ['more', 'var']\n",
      "List 3: ['some', 'var', 'more', 'var']\n"
     ]
    }
   ],
   "source": [
    "print(f\"List 1: {list1}\")\n",
    "print(f\"List 2: {list2}\")\n",
    "print(f\"List 3: {list3}\")"
   ]
  },
  {
   "cell_type": "markdown",
   "metadata": {},
   "source": [
    "# .split()"
   ]
  },
  {
   "cell_type": "code",
   "execution_count": 40,
   "metadata": {},
   "outputs": [
    {
     "name": "stdout",
     "output_type": "stream",
     "text": [
      "['rah', 'rah', 'ah', 'ah', 'ah', 'roma', 'ro', 'ma', 'ma', 'ga', 'ga', 'ooh', 'la', 'la']\n"
     ]
    }
   ],
   "source": [
    "gaga_chant = \"rah rah ah ah ah roma ro ma ma ga ga ooh la la\"\n",
    "chant = gaga_chant.split() #this is not an in-place method\n",
    "print(chant)"
   ]
  },
  {
   "cell_type": "markdown",
   "metadata": {},
   "source": [
    "# add new item to the end of the list"
   ]
  },
  {
   "cell_type": "code",
   "execution_count": 41,
   "metadata": {},
   "outputs": [
    {
     "data": {
      "text/plain": [
       "['rah',\n",
       " 'rah',\n",
       " 'ah',\n",
       " 'ah',\n",
       " 'ah',\n",
       " 'roma',\n",
       " 'ro',\n",
       " 'ma',\n",
       " 'ma',\n",
       " 'ga',\n",
       " 'ga',\n",
       " 'ooh',\n",
       " 'la',\n",
       " 'la',\n",
       " 'want your bad romance']"
      ]
     },
     "execution_count": 41,
     "metadata": {},
     "output_type": "execute_result"
    }
   ],
   "source": [
    "lyr = \"want your bad romance\"\n",
    "chant.append(lyr) #this is an in-place method; returns None\n",
    "chant"
   ]
  },
  {
   "cell_type": "markdown",
   "metadata": {},
   "source": [
    "# remove item from the end of the list"
   ]
  },
  {
   "cell_type": "code",
   "execution_count": 42,
   "metadata": {},
   "outputs": [
    {
     "name": "stdout",
     "output_type": "stream",
     "text": [
      "want your bad romance\n",
      "['rah', 'rah', 'ah', 'ah', 'ah', 'roma', 'ro', 'ma', 'ma', 'ga', 'ga', 'ooh', 'la', 'la']\n"
     ]
    }
   ],
   "source": [
    "print(chant.pop())\n",
    "print(chant)"
   ]
  },
  {
   "cell_type": "markdown",
   "metadata": {},
   "source": [
    "# remove a particular value"
   ]
  },
  {
   "cell_type": "code",
   "execution_count": 43,
   "metadata": {},
   "outputs": [
    {
     "name": "stdout",
     "output_type": "stream",
     "text": [
      "ah\n",
      "['rah', 'rah', 'ah', 'ah', 'roma', 'ro', 'ma', 'ma', 'ga', 'ga', 'ooh', 'la', 'la']\n"
     ]
    }
   ],
   "source": [
    "print(chant.pop(4))\n",
    "print(chant)"
   ]
  },
  {
   "cell_type": "code",
   "execution_count": 47,
   "metadata": {},
   "outputs": [
    {
     "data": {
      "text/plain": [
       "[8.0, 8.32, 8.41, 9.43]"
      ]
     },
     "execution_count": 47,
     "metadata": {},
     "output_type": "execute_result"
    }
   ],
   "source": [
    "sgpa = [8.32, 8.41, 8.00, 9.43]\n",
    "sgpa.sort() #this is an in-place method; returns None\n",
    "sgpa"
   ]
  },
  {
   "cell_type": "markdown",
   "metadata": {},
   "source": [
    "# Dictionaries\n",
    "\n",
    "Dictionaries are unordered mappings for storing objects, they use key-value pairings. This allows users to quickly grab objects without needing to know an index location.\n",
    "- dictionaries can be nested."
   ]
  },
  {
   "cell_type": "code",
   "execution_count": 55,
   "metadata": {},
   "outputs": [
    {
     "data": {
      "text/plain": [
       "{'Sem 1': 8.34, 'Sem 2': 8.43, 'Sem 3': 8.0, 'Sem 4': 9.43}"
      ]
     },
     "execution_count": 55,
     "metadata": {},
     "output_type": "execute_result"
    }
   ],
   "source": [
    "my_sgpa = {\"Sem 1\":8.34,\n",
    "           \"Sem 2\":8.43,\n",
    "           \"Sem 3\":8.00,\n",
    "           \"Sem 4\":9.43}\n",
    "my_sgpa"
   ]
  },
  {
   "cell_type": "code",
   "execution_count": 56,
   "metadata": {},
   "outputs": [
    {
     "data": {
      "text/plain": [
       "8.0"
      ]
     },
     "execution_count": 56,
     "metadata": {},
     "output_type": "execute_result"
    }
   ],
   "source": [
    "my_sgpa[\"Sem 3\"]"
   ]
  },
  {
   "cell_type": "markdown",
   "metadata": {},
   "source": [
    "# adding a new value to a dictionary"
   ]
  },
  {
   "cell_type": "code",
   "execution_count": 57,
   "metadata": {},
   "outputs": [
    {
     "data": {
      "text/plain": [
       "{'Sem 1': 8.34,\n",
       " 'Sem 2': 8.43,\n",
       " 'Sem 3': 8.0,\n",
       " 'Sem 4': 9.43,\n",
       " 'Sem 5': 9.65,\n",
       " 'Sem 6': 9.65}"
      ]
     },
     "execution_count": 57,
     "metadata": {},
     "output_type": "execute_result"
    }
   ],
   "source": [
    "my_sgpa[\"Sem 5\"], my_sgpa[\"Sem 6\"] = 9.65, 9.65\n",
    "my_sgpa"
   ]
  },
  {
   "cell_type": "code",
   "execution_count": 58,
   "metadata": {},
   "outputs": [
    {
     "data": {
      "text/plain": [
       "dict_keys(['Sem 1', 'Sem 2', 'Sem 3', 'Sem 4', 'Sem 5', 'Sem 6'])"
      ]
     },
     "execution_count": 58,
     "metadata": {},
     "output_type": "execute_result"
    }
   ],
   "source": [
    "my_sgpa.keys() # returns the keys of the dictionary in a list"
   ]
  },
  {
   "cell_type": "code",
   "execution_count": 64,
   "metadata": {},
   "outputs": [
    {
     "data": {
      "text/plain": [
       "dict_values([8.34, 8.43, 8.0, 9.43, 9.65, 9.65])"
      ]
     },
     "execution_count": 64,
     "metadata": {},
     "output_type": "execute_result"
    }
   ],
   "source": [
    "my_sgpa.values() # returns the values of the dictionary in a list"
   ]
  },
  {
   "cell_type": "code",
   "execution_count": 60,
   "metadata": {},
   "outputs": [
    {
     "data": {
      "text/plain": [
       "dict_items([('Sem 1', 8.34), ('Sem 2', 8.43), ('Sem 3', 8.0), ('Sem 4', 9.43), ('Sem 5', 9.65), ('Sem 6', 9.65)])"
      ]
     },
     "execution_count": 60,
     "metadata": {},
     "output_type": "execute_result"
    }
   ],
   "source": [
    "my_sgpa.items() # returns the key-value pairs in tuples"
   ]
  },
  {
   "cell_type": "markdown",
   "metadata": {},
   "source": [
    "# tuples\n",
    "\n",
    "Tuples are like lists, but they are immutable. They only have two methods associated with them: index() and count()"
   ]
  },
  {
   "cell_type": "code",
   "execution_count": 65,
   "metadata": {},
   "outputs": [],
   "source": [
    "sgpas = (8.32, 8.43, 8.00, 9.43)"
   ]
  },
  {
   "cell_type": "markdown",
   "metadata": {},
   "source": [
    "# sets\n",
    "\n",
    "sets are unordered collections of unique elements."
   ]
  },
  {
   "cell_type": "code",
   "execution_count": 1,
   "metadata": {},
   "outputs": [],
   "source": [
    "movies = set()"
   ]
  },
  {
   "cell_type": "code",
   "execution_count": 18,
   "metadata": {},
   "outputs": [
    {
     "name": "stdout",
     "output_type": "stream",
     "text": [
      "Enter name of the movie: Ratsasan\n"
     ]
    }
   ],
   "source": [
    "new_mv = input(\"Enter name of the movie: \")\n",
    "movies.add(new_mv)"
   ]
  },
  {
   "cell_type": "code",
   "execution_count": 20,
   "metadata": {},
   "outputs": [
    {
     "name": "stdout",
     "output_type": "stream",
     "text": [
      "Ratsasan\n",
      "Lion Shiva\n",
      "Awaarapan\n",
      "Super Deluxe\n",
      "Uri\n",
      "?\n",
      "Barfi\n",
      "Manmarziyan\n",
      "Mickey Virus\n",
      "Manorama Six Feet Under\n"
     ]
    }
   ],
   "source": [
    "for i in movies:\n",
    "    print(i)"
   ]
  },
  {
   "cell_type": "markdown",
   "metadata": {},
   "source": [
    "# booleans\n",
    "\n",
    "Booleans are operators that allow you to convey True or False statements."
   ]
  },
  {
   "cell_type": "markdown",
   "metadata": {},
   "source": [
    "# file handling\n",
    "\n",
    "- mode='r' is read only\n",
    "- mode='w' is write only\n",
    "- mode='a' is append only\n",
    "- mode='r+' is reading and writing\n",
    "- mode='w+' is writing and reading (overwriting or create new file)"
   ]
  },
  {
   "cell_type": "code",
   "execution_count": 24,
   "metadata": {},
   "outputs": [
    {
     "name": "stdout",
     "output_type": "stream",
     "text": [
      "Writing filename.txt\n"
     ]
    }
   ],
   "source": [
    "%%writefile filename.txt\n",
    "my milkshake brings all the boys to the yard\n",
    "and they're like it's better than yours\n",
    "i could teach you\n",
    "but i have to charge"
   ]
  },
  {
   "cell_type": "code",
   "execution_count": 40,
   "metadata": {},
   "outputs": [],
   "source": [
    "myfile = open('justdance.txt') # open file"
   ]
  },
  {
   "cell_type": "code",
   "execution_count": 41,
   "metadata": {},
   "outputs": [],
   "source": [
    "con = set(myfile.read())"
   ]
  },
  {
   "cell_type": "code",
   "execution_count": 42,
   "metadata": {},
   "outputs": [
    {
     "data": {
      "text/plain": [
       "50"
      ]
     },
     "execution_count": 42,
     "metadata": {},
     "output_type": "execute_result"
    }
   ],
   "source": [
    "len(con)"
   ]
  },
  {
   "cell_type": "code",
   "execution_count": 43,
   "metadata": {},
   "outputs": [
    {
     "data": {
      "text/plain": [
       "0"
      ]
     },
     "execution_count": 43,
     "metadata": {},
     "output_type": "execute_result"
    }
   ],
   "source": [
    "myfile.seek(0)"
   ]
  },
  {
   "cell_type": "code",
   "execution_count": 44,
   "metadata": {},
   "outputs": [],
   "source": [
    "lines = myfile.readlines()"
   ]
  },
  {
   "cell_type": "code",
   "execution_count": 45,
   "metadata": {},
   "outputs": [
    {
     "data": {
      "text/plain": [
       "['Red One\\n',\n",
       " 'Konvict\\n',\n",
       " 'Gaga (oh, yeah)\\n',\n",
       " '\\n',\n",
       " \"I've had a little bit too much, much\\n\",\n",
       " 'All of the people start to rush.\\n',\n",
       " 'Start to rush by.\\n',\n",
       " 'A dizzy twister dance\\n',\n",
       " \"Can't find my drink or man.\\n\",\n",
       " 'Where are my keys? I lost my phone, phone.\\n',\n",
       " '\\n',\n",
       " \"What's going on, on the floor?\\n\",\n",
       " \"I love this record, baby, but I can't see straight anymore.\\n\",\n",
       " \"Keep it cool, what's the name of this club?\\n\",\n",
       " \"I can't remember but it's alright, a-alright.\\n\",\n",
       " '\\n',\n",
       " 'Just dance. Gonna be okay.\\n',\n",
       " 'Da-doo-doo-doo\\n',\n",
       " 'Just dance. Spin that record babe.\\n',\n",
       " 'Da-doo-doo-doo\\n',\n",
       " 'Just dance. Gonna be okay.\\n',\n",
       " 'Duh-duh-duh-duh\\n',\n",
       " 'Dance. Dance. Dance. Just dance.\\n',\n",
       " '\\n',\n",
       " 'Wish I could shut my playboy mouth.\\n',\n",
       " \"How'd I turn my shirt inside out, inside out right?\\n\",\n",
       " 'Control your poison, babe\\n',\n",
       " '\"Roses have thorns,\" they say.\\n',\n",
       " \"And we're all gettin' hosed tonight.\\n\",\n",
       " '\\n',\n",
       " \"What's going on, on the floor?\\n\",\n",
       " \"I love this record, baby, but I can't see straight anymore.\\n\",\n",
       " \"Keep it cool, what's the name of this club?\\n\",\n",
       " \"I can't remember but it's alright, a-alright.\\n\",\n",
       " '\\n',\n",
       " 'Just dance. Gonna be okay.\\n',\n",
       " 'Da-doo-doo-doo\\n',\n",
       " 'Just dance. Spin that record babe.\\n',\n",
       " 'Da-doo-doo-doo\\n',\n",
       " 'Just dance. Gonna be okay.\\n',\n",
       " 'Duh-duh-duh-duh\\n',\n",
       " 'Dance. Dance. Dance. Just dance.\\n',\n",
       " '\\n',\n",
       " 'When I come through on the dance floor checking out that catalogue.\\n',\n",
       " \"Can't believe my eyes so many women without a flaw.\\n\",\n",
       " \"And I ain't gonna' give it up, steady tryna pick it up like a car\\n\",\n",
       " \"I'ma hit it, I'ma hit it and latch onto it until tomorrow, yeah\\n\",\n",
       " 'Shorty I can see that you got so much energy\\n',\n",
       " \"The way you twirling up them hips 'round and 'round\\n\",\n",
       " \"And there is no reason at all why you can't leave here with me\\n\",\n",
       " 'In the mean time stay, let me watch you break it down.\\n',\n",
       " '\\n',\n",
       " 'Just dance. Gonna be okay.\\n',\n",
       " 'Da-doo-doo-doo\\n',\n",
       " 'Just dance. Spin that record babe.\\n',\n",
       " 'Da-doo-doo-doo\\n',\n",
       " 'Just dance. Gonna be okay.\\n',\n",
       " 'Duh-duh-duh-duh\\n',\n",
       " 'Dance. Dance. Dance. Just dance.\\n',\n",
       " '\\n',\n",
       " \"Half psychotic, sick hypnotic got my blueprint it's symphonic.\\n\",\n",
       " 'Half psychotic, sick hypnotic got my blueprint electronic.\\n',\n",
       " \"Half psychotic, sick hypnotic got my blueprint it's symphonic.\\n\",\n",
       " 'Half psychotic, sick hypnotic got my blueprint electronic.\\n',\n",
       " '\\n',\n",
       " 'Go. Use your muscle, carve it out, work it, hustle\\n',\n",
       " 'I got it, just stay close enough to get it\\n',\n",
       " \"Don't slow! Drive it, clean it, Lysol, bleed it\\n\",\n",
       " 'Spend the last dough\\n',\n",
       " '(I got it)\\n',\n",
       " 'In your pocko\\n',\n",
       " '(I got it)\\n',\n",
       " '\\n',\n",
       " 'Just dance. Gonna be okay.\\n',\n",
       " 'Da-doo-doo-doo\\n',\n",
       " 'Just dance. Spin that record babe.\\n',\n",
       " 'Da-doo-doo-doo\\n',\n",
       " 'Just dance. Gonna be okay.\\n',\n",
       " 'Duh-duh-duh-duh\\n',\n",
       " 'Dance. Dance. Dance. Just dance.']"
      ]
     },
     "execution_count": 45,
     "metadata": {},
     "output_type": "execute_result"
    }
   ],
   "source": [
    "lines"
   ]
  },
  {
   "cell_type": "code",
   "execution_count": 46,
   "metadata": {},
   "outputs": [],
   "source": [
    "myfile.close()"
   ]
  },
  {
   "cell_type": "code",
   "execution_count": 47,
   "metadata": {},
   "outputs": [
    {
     "name": "stdout",
     "output_type": "stream",
     "text": [
      "['Red One\\n', 'Konvict\\n', 'Gaga (oh, yeah)\\n', '\\n', \"I've had a little bit too much, much\\n\", 'All of the people start to rush.\\n', 'Start to rush by.\\n', 'A dizzy twister dance\\n', \"Can't find my drink or man.\\n\", 'Where are my keys? I lost my phone, phone.\\n', '\\n', \"What's going on, on the floor?\\n\", \"I love this record, baby, but I can't see straight anymore.\\n\", \"Keep it cool, what's the name of this club?\\n\", \"I can't remember but it's alright, a-alright.\\n\", '\\n', 'Just dance. Gonna be okay.\\n', 'Da-doo-doo-doo\\n', 'Just dance. Spin that record babe.\\n', 'Da-doo-doo-doo\\n', 'Just dance. Gonna be okay.\\n', 'Duh-duh-duh-duh\\n', 'Dance. Dance. Dance. Just dance.\\n', '\\n', 'Wish I could shut my playboy mouth.\\n', \"How'd I turn my shirt inside out, inside out right?\\n\", 'Control your poison, babe\\n', '\"Roses have thorns,\" they say.\\n', \"And we're all gettin' hosed tonight.\\n\", '\\n', \"What's going on, on the floor?\\n\", \"I love this record, baby, but I can't see straight anymore.\\n\", \"Keep it cool, what's the name of this club?\\n\", \"I can't remember but it's alright, a-alright.\\n\", '\\n', 'Just dance. Gonna be okay.\\n', 'Da-doo-doo-doo\\n', 'Just dance. Spin that record babe.\\n', 'Da-doo-doo-doo\\n', 'Just dance. Gonna be okay.\\n', 'Duh-duh-duh-duh\\n', 'Dance. Dance. Dance. Just dance.\\n', '\\n', 'When I come through on the dance floor checking out that catalogue.\\n', \"Can't believe my eyes so many women without a flaw.\\n\", \"And I ain't gonna' give it up, steady tryna pick it up like a car\\n\", \"I'ma hit it, I'ma hit it and latch onto it until tomorrow, yeah\\n\", 'Shorty I can see that you got so much energy\\n', \"The way you twirling up them hips 'round and 'round\\n\", \"And there is no reason at all why you can't leave here with me\\n\", 'In the mean time stay, let me watch you break it down.\\n', '\\n', 'Just dance. Gonna be okay.\\n', 'Da-doo-doo-doo\\n', 'Just dance. Spin that record babe.\\n', 'Da-doo-doo-doo\\n', 'Just dance. Gonna be okay.\\n', 'Duh-duh-duh-duh\\n', 'Dance. Dance. Dance. Just dance.\\n', '\\n', \"Half psychotic, sick hypnotic got my blueprint it's symphonic.\\n\", 'Half psychotic, sick hypnotic got my blueprint electronic.\\n', \"Half psychotic, sick hypnotic got my blueprint it's symphonic.\\n\", 'Half psychotic, sick hypnotic got my blueprint electronic.\\n', '\\n', 'Go. Use your muscle, carve it out, work it, hustle\\n', 'I got it, just stay close enough to get it\\n', \"Don't slow! Drive it, clean it, Lysol, bleed it\\n\", 'Spend the last dough\\n', '(I got it)\\n', 'In your pocko\\n', '(I got it)\\n', '\\n', 'Just dance. Gonna be okay.\\n', 'Da-doo-doo-doo\\n', 'Just dance. Spin that record babe.\\n', 'Da-doo-doo-doo\\n', 'Just dance. Gonna be okay.\\n', 'Duh-duh-duh-duh\\n', 'Dance. Dance. Dance. Just dance.']\n"
     ]
    }
   ],
   "source": [
    "with open('justdance.txt') as myfile:\n",
    "    contents = myfile.readlines()\n",
    "\n",
    "print(contents)"
   ]
  },
  {
   "cell_type": "code",
   "execution_count": null,
   "metadata": {},
   "outputs": [],
   "source": []
  }
 ],
 "metadata": {
  "kernelspec": {
   "display_name": "Python 3",
   "language": "python",
   "name": "python3"
  },
  "language_info": {
   "codemirror_mode": {
    "name": "ipython",
    "version": 3
   },
   "file_extension": ".py",
   "mimetype": "text/x-python",
   "name": "python",
   "nbconvert_exporter": "python",
   "pygments_lexer": "ipython3",
   "version": "3.7.6"
  }
 },
 "nbformat": 4,
 "nbformat_minor": 4
}
