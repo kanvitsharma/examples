{
 "cells": [
  {
   "cell_type": "markdown",
   "metadata": {},
   "source": [
    "# Logical operators\n",
    "\n",
    "There are three logical operators in Python: and, or, not"
   ]
  },
  {
   "cell_type": "code",
   "execution_count": 1,
   "metadata": {},
   "outputs": [],
   "source": [
    "def factorial(num):\n",
    "    if num == 1:\n",
    "        return 1\n",
    "    return num * factorial(num-1)"
   ]
  },
  {
   "cell_type": "code",
   "execution_count": 2,
   "metadata": {},
   "outputs": [
    {
     "data": {
      "text/plain": [
       "120"
      ]
     },
     "execution_count": 2,
     "metadata": {},
     "output_type": "execute_result"
    }
   ],
   "source": [
    "factorial(5)"
   ]
  },
  {
   "cell_type": "code",
   "execution_count": 8,
   "metadata": {},
   "outputs": [
    {
     "name": "stdout",
     "output_type": "stream",
     "text": [
      "Enter speed: 2.3\n",
      "Enter acceleration: 5.7\n",
      "Enter time increment: 9.7\n",
      "Time: 0.00\tDistance:      0.00\n",
      "Time: 9.70\tDistance:    290.47\n",
      "Time: 19.40\tDistance:   1117.25\n",
      "Time: 29.10\tDistance:   2480.34\n",
      "Time: 38.80\tDistance:   4379.74\n",
      "Time: 48.50\tDistance:   6815.46\n",
      "Time: 58.20\tDistance:   9787.49\n",
      "Time: 67.90\tDistance:  13295.84\n",
      "Time: 77.60\tDistance:  17340.50\n",
      "Time: 87.30\tDistance:  21921.47\n",
      "Time: 97.00\tDistance:  27038.75\n"
     ]
    }
   ],
   "source": [
    "from numpy import *\n",
    "speed = float(input(\"Enter speed: \"))\n",
    "acceleration = float(input(\"Enter acceleration: \"))\n",
    "time_int = float(input(\"Enter time increment: \"))\n",
    "\n",
    "for time in arange(0, 100, time_int):\n",
    "    distance = time * (speed + (acceleration * time) / 2)\n",
    "    print(f\"Time: {time:4.2f}\\tDistance: {distance:9.2f}\")"
   ]
  },
  {
   "cell_type": "code",
   "execution_count": null,
   "metadata": {},
   "outputs": [],
   "source": []
  }
 ],
 "metadata": {
  "kernelspec": {
   "display_name": "Python 3",
   "language": "python",
   "name": "python3"
  },
  "language_info": {
   "codemirror_mode": {
    "name": "ipython",
    "version": 3
   },
   "file_extension": ".py",
   "mimetype": "text/x-python",
   "name": "python",
   "nbconvert_exporter": "python",
   "pygments_lexer": "ipython3",
   "version": "3.7.6"
  }
 },
 "nbformat": 4,
 "nbformat_minor": 4
}
